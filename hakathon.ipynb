{
 "cells": [
  {
   "cell_type": "markdown",
   "id": "df03c1cc-1bd9-4477-9cd8-d8060dcf81bc",
   "metadata": {},
   "source": [
    "# Step 1: Define the BankAccount Class "
   ]
  },
  {
   "cell_type": "code",
   "execution_count": 39,
   "id": "e451c2a1-e8b2-4abd-8bb0-99db58ffa244",
   "metadata": {},
   "outputs": [],
   "source": [
    "class BankAccount:\n",
    "    def __init__(self, account_holder):\n",
    "        self.account_number = f\"AC{str(hash(account_holder))[-5:]}\"  # Unique account number\n",
    "        self.account_holder = account_holder\n",
    "        self.balance = 0\n",
    "        self.transactions = []\n",
    "\n",
    "    def deposit(self, amount):\n",
    "        self.balance += amount\n",
    "        self.add_transaction(f\"Deposited ${amount}\")\n",
    "    \n",
    "    def withdraw(self, amount):\n",
    "        if amount <= self.balance:\n",
    "            self.balance -= amount\n",
    "            self.add_transaction(f\"Withdrew ${amount}\")\n",
    "        else:\n",
    "            print(\"Insufficient balance\")\n",
    "\n",
    "    def check_balance(self):\n",
    "        return self.balance\n",
    "\n",
    "    def add_transaction(self, description):\n",
    "        self.transactions.append(description)\n",
    "\n",
    "    def print_statement(self):\n",
    "        print(f\"Account Statement for {self.account_holder} ({self.account_number}):\")\n",
    "        for transaction in self.transactions:\n",
    "            print(transaction)\n",
    "        print(f\"Current Balance: ${self.balance}\")\n"
   ]
  },
  {
   "cell_type": "markdown",
   "id": "cd604783-35c2-4b04-b6fa-c51bd150110d",
   "metadata": {},
   "source": [
    "# Step 2: Define the Bank Class "
   ]
  },
  {
   "cell_type": "code",
   "execution_count": 41,
   "id": "45b0c781-00e8-49c4-a063-a600a5bd8e10",
   "metadata": {},
   "outputs": [],
   "source": [
    "class Bank:\n",
    "    def __init__(self):\n",
    "        self.accounts = {}\n",
    "\n",
    "    def open_account(self, account_holder):\n",
    "        account = BankAccount(account_holder)\n",
    "        self.accounts[account.account_number] = account\n",
    "        return account.account_number\n",
    "        \n",
    "    def get_account(self, account_number):\n",
    "        return self.accounts.get(account_number, None)\n",
    "        \n",
    "    def transfer(self, sender_account_number, receiver_account_number, amount):\n",
    "        sender_account = self.get_account(sender_account_number)\n",
    "        receiver_account = self.get_account(receiver_account_number)\n",
    "\n",
    "        if sender_account and receiver_account:\n",
    "            if sender_account.balance >= amount:\n",
    "                sender_account.withdraw(amount)\n",
    "                receiver_account.deposit(amount)\n",
    "                sender_account.add_transaction(f\"Transferred ${amount} to {receiver_account.account_holder}\")\n",
    "                receiver_account.add_transaction(f\"Received ${amount} from {sender_account.account_holder}\")\n",
    "            else:\n",
    "                print(\"Insufficient funds for transfer\")\n",
    "        else:\n",
    "            print(\"Account not found\")\n",
    "\n",
    "    def admin_check_total_deposit(self):\n",
    "        total_deposit = sum(account.balance for account in self.accounts.values())\n",
    "        return total_deposit\n",
    "\n",
    "    def admin_check_total_accounts(self):\n",
    "        return len(self.accounts)    \n",
    "        "
   ]
  },
  {
   "cell_type": "markdown",
   "id": "d27b18dc-6b24-4e39-a5d3-37d3518b7d82",
   "metadata": {},
   "source": [
    "# Step 3: Create a Menu-Driven Interface \n"
   ]
  },
  {
   "cell_type": "code",
   "execution_count": 43,
   "id": "fd5966d2-33fa-44d6-98a4-3c3ae4bc7148",
   "metadata": {},
   "outputs": [],
   "source": [
    "def main_menu():\n",
    "    bank = Bank()\n",
    "    \n",
    "    while True:\n",
    "        print(\"\\n--- Banking System ---\")\n",
    "        print(\"1. Open Account\")\n",
    "        print(\"2. Deposit Money\")\n",
    "        print(\"3. Withdraw Money\")\n",
    "        print(\"4. Check Balance\")\n",
    "        print(\"5. Transfer Money\")\n",
    "        print(\"6. View Transaction Statement\")\n",
    "        print(\"7. Admin Login\")\n",
    "        print(\"8. Exit\")\n",
    "        choice = input(\"Choose an option: \")\n",
    "\n",
    "        if choice == '1':\n",
    "            name = input(\"Enter your name: \")\n",
    "            account_number = bank.open_account(name)\n",
    "            print(f\"Account created successfully! Your account number is: {account_number}\")\n",
    "\n",
    "        elif choice == '2':\n",
    "            account_number = input(\"Enter your account number: \")\n",
    "            amount = float(input(\"Enter deposit amount: \"))\n",
    "            account = bank.get_account(account_number)\n",
    "            if account:\n",
    "                account.deposit(amount)\n",
    "                print(f\"${amount} deposited successfully!\")\n",
    "\n",
    "        elif choice == '3':\n",
    "            account_number = input(\"Enter your account number: \")\n",
    "            amount = float(input(\"Enter withdrawal amount: \"))\n",
    "            account = bank.get_account(account_number)\n",
    "            if account:\n",
    "                account.withdraw(amount)\n",
    "                print(f\"${amount} withdrawn successfully!\")\n",
    "\n",
    "        elif choice == '4':\n",
    "            account_number = input(\"Enter your account number: \")\n",
    "            account = bank.get_account(account_number)\n",
    "            if account:\n",
    "                balance = account.check_balance()\n",
    "                print(f\"Current balance: ${balance}\")\n",
    "\n",
    "        elif choice == '5':\n",
    "            sender_account_number = input(\"Enter your account number: \")\n",
    "            receiver_account_number = input(\"Enter the receiver's account number: \")\n",
    "            amount = float(input(\"Enter amount to transfer: \"))\n",
    "            bank.transfer(sender_account_number, receiver_account_number, amount)\n",
    "\n",
    "        elif choice == '6':\n",
    "            account_number = input(\"Enter your account number: \")\n",
    "            account = bank.get_account(account_number)\n",
    "            if account:\n",
    "                account.print_statement()\n",
    "\n",
    "        elif choice == '7':\n",
    "            print(\"\\nAdmin Operations:\")\n",
    "            print(\"1. View Total Deposits\")\n",
    "            print(\"2. View Total Accounts\")\n",
    "            admin_choice = input(\"Choose an admin operation: \")\n",
    "\n",
    "            if admin_choice == '1':\n",
    "                total_deposits = bank.admin_check_total_deposit()\n",
    "                print(f\"Total deposits in the bank: ${total_deposits}\")\n",
    "\n",
    "            elif admin_choice == '2':\n",
    "                total_accounts = bank.admin_check_total_accounts()\n",
    "                print(f\"Total number of accounts: {total_accounts}\")\n",
    "\n",
    "        elif choice == '8':\n",
    "            print(\"Exiting the system.\")\n",
    "            break\n",
    "        else:\n",
    "            print(\"Invalid choice. Please try again.\")\n"
   ]
  },
  {
   "cell_type": "code",
   "execution_count": 45,
   "id": "bfc6d7dd-d93b-4039-9741-5470807ea790",
   "metadata": {},
   "outputs": [
    {
     "name": "stdout",
     "output_type": "stream",
     "text": [
      "\n",
      "--- Banking System ---\n",
      "1. Open Account\n",
      "2. Deposit Money\n",
      "3. Withdraw Money\n",
      "4. Check Balance\n",
      "5. Transfer Money\n",
      "6. View Transaction Statement\n",
      "7. Admin Login\n",
      "8. Exit\n"
     ]
    },
    {
     "name": "stdin",
     "output_type": "stream",
     "text": [
      "Choose an option:  1\n",
      "Enter your name:  uzair\n"
     ]
    },
    {
     "name": "stdout",
     "output_type": "stream",
     "text": [
      "Account created successfully! Your account number is: AC50814\n",
      "\n",
      "--- Banking System ---\n",
      "1. Open Account\n",
      "2. Deposit Money\n",
      "3. Withdraw Money\n",
      "4. Check Balance\n",
      "5. Transfer Money\n",
      "6. View Transaction Statement\n",
      "7. Admin Login\n",
      "8. Exit\n"
     ]
    },
    {
     "name": "stdin",
     "output_type": "stream",
     "text": [
      "Choose an option:  2\n",
      "Enter your account number:  AC50814\n",
      "Enter deposit amount:  500\n"
     ]
    },
    {
     "name": "stdout",
     "output_type": "stream",
     "text": [
      "$500.0 deposited successfully!\n",
      "\n",
      "--- Banking System ---\n",
      "1. Open Account\n",
      "2. Deposit Money\n",
      "3. Withdraw Money\n",
      "4. Check Balance\n",
      "5. Transfer Money\n",
      "6. View Transaction Statement\n",
      "7. Admin Login\n",
      "8. Exit\n"
     ]
    },
    {
     "name": "stdin",
     "output_type": "stream",
     "text": [
      "Choose an option:  4\n",
      "Enter your account number:  AC50814\n"
     ]
    },
    {
     "name": "stdout",
     "output_type": "stream",
     "text": [
      "Current balance: $500.0\n",
      "\n",
      "--- Banking System ---\n",
      "1. Open Account\n",
      "2. Deposit Money\n",
      "3. Withdraw Money\n",
      "4. Check Balance\n",
      "5. Transfer Money\n",
      "6. View Transaction Statement\n",
      "7. Admin Login\n",
      "8. Exit\n"
     ]
    },
    {
     "name": "stdin",
     "output_type": "stream",
     "text": [
      "Choose an option:  1\n",
      "Enter your name:  wahabali\n"
     ]
    },
    {
     "name": "stdout",
     "output_type": "stream",
     "text": [
      "Account created successfully! Your account number is: AC00441\n",
      "\n",
      "--- Banking System ---\n",
      "1. Open Account\n",
      "2. Deposit Money\n",
      "3. Withdraw Money\n",
      "4. Check Balance\n",
      "5. Transfer Money\n",
      "6. View Transaction Statement\n",
      "7. Admin Login\n",
      "8. Exit\n"
     ]
    },
    {
     "name": "stdin",
     "output_type": "stream",
     "text": [
      "Choose an option:  2\n",
      "Enter your account number:  AC00441\n",
      "Enter deposit amount:  1000\n"
     ]
    },
    {
     "name": "stdout",
     "output_type": "stream",
     "text": [
      "$1000.0 deposited successfully!\n",
      "\n",
      "--- Banking System ---\n",
      "1. Open Account\n",
      "2. Deposit Money\n",
      "3. Withdraw Money\n",
      "4. Check Balance\n",
      "5. Transfer Money\n",
      "6. View Transaction Statement\n",
      "7. Admin Login\n",
      "8. Exit\n"
     ]
    },
    {
     "name": "stdin",
     "output_type": "stream",
     "text": [
      "Choose an option:  4\n",
      "Enter your account number:  AC00441\n"
     ]
    },
    {
     "name": "stdout",
     "output_type": "stream",
     "text": [
      "Current balance: $1000.0\n",
      "\n",
      "--- Banking System ---\n",
      "1. Open Account\n",
      "2. Deposit Money\n",
      "3. Withdraw Money\n",
      "4. Check Balance\n",
      "5. Transfer Money\n",
      "6. View Transaction Statement\n",
      "7. Admin Login\n",
      "8. Exit\n"
     ]
    },
    {
     "name": "stdin",
     "output_type": "stream",
     "text": [
      "Choose an option:  3\n",
      "Enter your account number:  AC00441\n",
      "Enter withdrawal amount:  500\n"
     ]
    },
    {
     "name": "stdout",
     "output_type": "stream",
     "text": [
      "$500.0 withdrawn successfully!\n",
      "\n",
      "--- Banking System ---\n",
      "1. Open Account\n",
      "2. Deposit Money\n",
      "3. Withdraw Money\n",
      "4. Check Balance\n",
      "5. Transfer Money\n",
      "6. View Transaction Statement\n",
      "7. Admin Login\n",
      "8. Exit\n"
     ]
    },
    {
     "name": "stdin",
     "output_type": "stream",
     "text": [
      "Choose an option:  4\n",
      "Enter your account number:  AC00441\n"
     ]
    },
    {
     "name": "stdout",
     "output_type": "stream",
     "text": [
      "Current balance: $500.0\n",
      "\n",
      "--- Banking System ---\n",
      "1. Open Account\n",
      "2. Deposit Money\n",
      "3. Withdraw Money\n",
      "4. Check Balance\n",
      "5. Transfer Money\n",
      "6. View Transaction Statement\n",
      "7. Admin Login\n",
      "8. Exit\n"
     ]
    },
    {
     "name": "stdin",
     "output_type": "stream",
     "text": [
      "Choose an option:  5\n",
      "Enter your account number:  AC00441\n",
      "Enter the receiver's account number:  AC50814\n",
      "Enter amount to transfer:  300\n"
     ]
    },
    {
     "name": "stdout",
     "output_type": "stream",
     "text": [
      "\n",
      "--- Banking System ---\n",
      "1. Open Account\n",
      "2. Deposit Money\n",
      "3. Withdraw Money\n",
      "4. Check Balance\n",
      "5. Transfer Money\n",
      "6. View Transaction Statement\n",
      "7. Admin Login\n",
      "8. Exit\n"
     ]
    },
    {
     "name": "stdin",
     "output_type": "stream",
     "text": [
      "Choose an option:  4\n",
      "Enter your account number:  AC50814\n"
     ]
    },
    {
     "name": "stdout",
     "output_type": "stream",
     "text": [
      "Current balance: $800.0\n",
      "\n",
      "--- Banking System ---\n",
      "1. Open Account\n",
      "2. Deposit Money\n",
      "3. Withdraw Money\n",
      "4. Check Balance\n",
      "5. Transfer Money\n",
      "6. View Transaction Statement\n",
      "7. Admin Login\n",
      "8. Exit\n"
     ]
    },
    {
     "name": "stdin",
     "output_type": "stream",
     "text": [
      "Choose an option:  6\n",
      "Enter your account number:  AC50814\n"
     ]
    },
    {
     "name": "stdout",
     "output_type": "stream",
     "text": [
      "Account Statement for uzair (AC50814):\n",
      "Deposited $500.0\n",
      "Deposited $300.0\n",
      "Received $300.0 from wahabali\n",
      "Current Balance: $800.0\n",
      "\n",
      "--- Banking System ---\n",
      "1. Open Account\n",
      "2. Deposit Money\n",
      "3. Withdraw Money\n",
      "4. Check Balance\n",
      "5. Transfer Money\n",
      "6. View Transaction Statement\n",
      "7. Admin Login\n",
      "8. Exit\n"
     ]
    },
    {
     "name": "stdin",
     "output_type": "stream",
     "text": [
      "Choose an option:  7\n"
     ]
    },
    {
     "name": "stdout",
     "output_type": "stream",
     "text": [
      "\n",
      "Admin Operations:\n",
      "1. View Total Deposits\n",
      "2. View Total Accounts\n"
     ]
    },
    {
     "name": "stdin",
     "output_type": "stream",
     "text": [
      "Choose an admin operation:  2\n"
     ]
    },
    {
     "name": "stdout",
     "output_type": "stream",
     "text": [
      "Total number of accounts: 2\n",
      "\n",
      "--- Banking System ---\n",
      "1. Open Account\n",
      "2. Deposit Money\n",
      "3. Withdraw Money\n",
      "4. Check Balance\n",
      "5. Transfer Money\n",
      "6. View Transaction Statement\n",
      "7. Admin Login\n",
      "8. Exit\n"
     ]
    },
    {
     "name": "stdin",
     "output_type": "stream",
     "text": [
      "Choose an option:  8\n"
     ]
    },
    {
     "name": "stdout",
     "output_type": "stream",
     "text": [
      "Exiting the system.\n"
     ]
    }
   ],
   "source": [
    "##### main_menu()"
   ]
  },
  {
   "cell_type": "code",
   "execution_count": null,
   "id": "765e4339-9cfe-4092-be41-d2030ba2fcb1",
   "metadata": {},
   "outputs": [],
   "source": []
  },
  {
   "cell_type": "code",
   "execution_count": null,
   "id": "473b520a-db07-4858-8028-5c015c52b807",
   "metadata": {},
   "outputs": [],
   "source": []
  },
  {
   "cell_type": "code",
   "execution_count": null,
   "id": "5a71b365-90fd-4892-8aa2-38f2cd96b75d",
   "metadata": {},
   "outputs": [],
   "source": []
  },
  {
   "cell_type": "code",
   "execution_count": null,
   "id": "5b8839d0-247f-4fff-b409-e754bc55769a",
   "metadata": {},
   "outputs": [],
   "source": []
  },
  {
   "cell_type": "code",
   "execution_count": null,
   "id": "2d0e9512-05d1-4152-923f-b06d1daaa04c",
   "metadata": {},
   "outputs": [],
   "source": []
  },
  {
   "cell_type": "code",
   "execution_count": null,
   "id": "00815087-2fa0-4693-8c73-2e0a0dcc1a80",
   "metadata": {},
   "outputs": [],
   "source": []
  },
  {
   "cell_type": "code",
   "execution_count": null,
   "id": "939c7348-7c9d-40f8-8e46-05c8fd4859cb",
   "metadata": {},
   "outputs": [],
   "source": []
  },
  {
   "cell_type": "code",
   "execution_count": null,
   "id": "785c1bf3-a0b7-4ab9-8cf3-088df477d90c",
   "metadata": {},
   "outputs": [],
   "source": []
  },
  {
   "cell_type": "code",
   "execution_count": null,
   "id": "8a84933d-3782-4da6-875e-a7a6fd04496f",
   "metadata": {},
   "outputs": [],
   "source": []
  },
  {
   "cell_type": "code",
   "execution_count": null,
   "id": "939ca9ed-f1e7-471f-8fe1-5469a38c3d1c",
   "metadata": {},
   "outputs": [],
   "source": []
  },
  {
   "cell_type": "code",
   "execution_count": null,
   "id": "e3ace746-6672-4dcc-b5bf-f93aa28bf666",
   "metadata": {},
   "outputs": [],
   "source": []
  },
  {
   "cell_type": "code",
   "execution_count": null,
   "id": "51e8eb49-4293-44fd-bc93-b8bef7431082",
   "metadata": {},
   "outputs": [],
   "source": []
  },
  {
   "cell_type": "code",
   "execution_count": null,
   "id": "ca28f645-e9d9-4026-9b18-51bef86ef635",
   "metadata": {},
   "outputs": [],
   "source": []
  },
  {
   "cell_type": "code",
   "execution_count": null,
   "id": "61a692c7-504e-4f41-81b0-0b6fb24bae4c",
   "metadata": {},
   "outputs": [],
   "source": []
  },
  {
   "cell_type": "code",
   "execution_count": null,
   "id": "4dbeb5d0-799a-45c4-bd1c-98b9b4b81bbd",
   "metadata": {},
   "outputs": [],
   "source": []
  },
  {
   "cell_type": "code",
   "execution_count": null,
   "id": "bd238544-3fea-49ec-ac66-4145f991f56d",
   "metadata": {},
   "outputs": [],
   "source": []
  }
 ],
 "metadata": {
  "kernelspec": {
   "display_name": "Python 3 (ipykernel)",
   "language": "python",
   "name": "python3"
  },
  "language_info": {
   "codemirror_mode": {
    "name": "ipython",
    "version": 3
   },
   "file_extension": ".py",
   "mimetype": "text/x-python",
   "name": "python",
   "nbconvert_exporter": "python",
   "pygments_lexer": "ipython3",
   "version": "3.12.7"
  }
 },
 "nbformat": 4,
 "nbformat_minor": 5
}
